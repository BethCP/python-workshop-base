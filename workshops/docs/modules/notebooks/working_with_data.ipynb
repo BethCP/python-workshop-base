{
 "cells": [
  {
   "cell_type": "markdown",
   "metadata": {},
   "source": [
    "# Data Analysis in Python\n",
    "\n",
    "*Estimated teaching time:* 30 min\n",
    "\n",
    "*Estimated challenge time:* 30 min\n",
    "\n",
    "*Key questions:*\n",
    "\n",
    "  - \"How can I import data in Python ?\"\n",
    "  - \"What is Pandas ?\"\n",
    "  - \"Why should I use Pandas to work with data ?\"\n",
    "    \n",
    "*Learning objectives:*\n",
    "\n",
    "  - \"Navigate the workshop directory and download a dataset.\"\n",
    "  - \"Explain what a library is and what libraries are used for.\"\n",
    "  - \"Describe what the Python Data Analysis Library (Pandas) is.\"\n",
    "  - \"Load the Python Data Analysis Library (Pandas).\"\n",
    "  - \"Use `read_csv` to read tabular data into Python.\"\n",
    "  - \"Describe what a DataFrame is in Python.\"\n",
    "  - \"Access and summarize data stored in a DataFrame.\"\n",
    "  - \"Define indexing as it relates to data structures.\"\n",
    "  - \"Perform basic mathematical operations and summary statistics on data in a Pandas DataFrame.\"\n",
    "  - \"Create simple plots.\"\n",
    "---"
   ]
  },
  {
   "cell_type": "markdown",
   "metadata": {},
   "source": [
    "# Working With Pandas DataFrames\n",
    "\n",
    "We can automate the process of performing data manipulations in Python. It's efficient to spend time\n",
    "building the code to perform these tasks because once it's built, we can use it\n",
    "over and over on different datasets that use a similar format. This makes our\n",
    "methods easily reproducible. We can also easily share our code with colleagues\n",
    "and they can replicate the same analysis.\n",
    "\n",
    "### The Dataset\n",
    "\n",
    "For this lesson, we will be using the Portal Teaching data, a subset of the data\n",
    "from Ernst et al\n",
    "[Long-term monitoring and experimental manipulation of a Chihuahuan Desert ecosystem near Portal, Arizona, USA](http://www.esapubs.org/archive/ecol/E090/118/default.htm)\n",
    "\n",
    "We will be using this dataset, which is stored under your login/account under the **Files** tab.\n",
    "\n",
    "We are studying the species and weight of animals caught in plots in our study\n",
    "area. The dataset is stored as a `.csv` file: each row holds information for a\n",
    "single animal, and the columns represent:\n",
    "\n",
    "| Column           | Description                        |\n",
    "|------------------|------------------------------------|\n",
    "| record_id        | Unique id for the observation      |\n",
    "| month            | month of observation               |\n",
    "| day              | day of observation                 |\n",
    "| year             | year of observation                |\n",
    "| plot_id          | ID of a particular plot            |\n",
    "| species_id       | 2-letter code                      |\n",
    "| sex              | sex of animal (\"M\", \"F\")           |\n",
    "| hindfoot_length  | length of the hindfoot in mm       |\n",
    "| weight           | weight of the animal in grams      |\n",
    "\n",
    "\n",
    "The first few rows of our first file look like this:\n",
    "\n",
    "```\n",
    "record_id,month,day,year,plot_id,species_id,sex,hindfoot_length,weight\n",
    "1,7,16,1977,2,NL,M,32,\n",
    "2,7,16,1977,3,NL,M,33,\n",
    "3,7,16,1977,2,DM,F,37,\n",
    "4,7,16,1977,7,DM,M,36,\n",
    "5,7,16,1977,3,DM,M,35,\n",
    "6,7,16,1977,1,PF,M,14,\n",
    "7,7,16,1977,2,PE,F,,\n",
    "8,7,16,1977,1,DM,M,37,\n",
    "9,7,16,1977,1,DM,F,34,\n",
    "```\n",
    "\n",
    "---"
   ]
  },
  {
   "cell_type": "markdown",
   "metadata": {},
   "source": [
    "## About Libraries\n",
    "A library in Python contains a set of tools (called functions) that perform\n",
    "tasks on our data. Importing a library is like getting a piece of lab equipment\n",
    "out of a storage locker and setting it up on the bench for use in a project.\n",
    "Once a library is set up, it can be used or called to perform many tasks.\n",
    "\n"
   ]
  },
  {
   "cell_type": "markdown",
   "metadata": {},
   "source": [
    "## Pandas in Python\n",
    "One of the best options for working with tabular data in Python is to use the\n",
    "[Python Data Analysis Library](http://pandas.pydata.org/) (a.k.a. Pandas). The\n",
    "Pandas library provides data structures, produces high quality plots with\n",
    "[matplotlib](http://matplotlib.org/) and integrates nicely with other libraries\n",
    "that use [NumPy](http://www.numpy.org/) (which is another Python library) arrays.\n",
    "\n",
    "Python doesn't load all of the libraries available to it by default. We have to\n",
    "add an `import` statement to our code in order to use library functions. To import\n",
    "a library, we use the syntax `import libraryName`. If we want to give the\n",
    "library a nickname to shorten the command, we can add `as nickNameHere`.  An\n",
    "example of importing the pandas library using the common nickname `pd` is below.\n",
    "\n",
    "\n"
   ]
  },
  {
   "cell_type": "code",
   "execution_count": null,
   "metadata": {},
   "outputs": [],
   "source": [
    "import pandas as pd\n"
   ]
  },
  {
   "cell_type": "markdown",
   "metadata": {},
   "source": [
    "\n",
    "Each time we call a function that's in a library, we use the syntax\n",
    "`LibraryName.FunctionName`. Adding the library name with a `.` before the\n",
    "function name tells Python where to find the function. In the example above, we\n",
    "have imported Pandas as `pd`. This means we don't have to type out `pandas` each\n",
    "time we call a Pandas function.\n",
    "\n",
    "\n",
    "# Reading CSV Data Using Pandas\n",
    "\n",
    "We will begin by locating and reading our survey data which are in CSV format. CSV stands for Comma-Separated Values and is a common way store formatted data. Other symbols my also be used, so you might see tab-separated, colon-separated or space separated files. It is quite easy to replace one separator with another, to match your application. The first line in the file often has headers to explain what is in each column. CSV (and other separators) make it easy to share data, and can be imported and exported from many applications, including Microsoft Excel. For mo\n",
    "\n",
    "We can use Pandas' `read_csv` function to pull the file directly into a\n",
    "[DataFrame](http://pandas.pydata.org/pandas-docs/stable/dsintro.html#dataframe).\n",
    "\n"
   ]
  },
  {
   "cell_type": "markdown",
   "metadata": {},
   "source": [
    "## So What's a DataFrame?\n",
    "\n",
    "A DataFrame is a 2-dimensional data structure that can store data of different\n",
    "types (including characters, integers, floating point values, factors and more)\n",
    "in columns. It is similar to a spreadsheet or an SQL table or the `data.frame` in\n",
    "R. A DataFrame always has an index (0-based). An index refers to the position of\n",
    "an element in the data structure.\n",
    "\n"
   ]
  },
  {
   "cell_type": "code",
   "execution_count": null,
   "metadata": {},
   "outputs": [],
   "source": [
    "# Note that pd.read_csv is used because we imported pandas as pd\n",
    "pd.read_csv(\"data/surveys.csv\")\n"
   ]
  },
  {
   "cell_type": "markdown",
   "metadata": {},
   "source": [
    "\n",
    "The above command yields the **output** below:\n",
    "\n",
    "```\n",
    "record_id  month  day  year  plot_id species_id sex  hindfoot_length  weight\n",
    "0          1      7   16  1977        2         NL   M               32   NaN\n",
    "1          2      7   16  1977        3         NL   M               33   NaN\n",
    "2          3      7   16  1977        2         DM   F               37   NaN\n",
    "3          4      7   16  1977        7         DM   M               36   NaN\n",
    "4          5      7   16  1977        3         DM   M               35   NaN\n",
    "...\n",
    "35544      35545     12   31  2002       15     AH  NaN              NaN  NaN\n",
    "35545      35546     12   31  2002       15     AH  NaN              NaN  NaN\n",
    "35546      35547     12   31  2002       10     RM    F               15   14\n",
    "35547      35548     12   31  2002        7     DO    M               36   51\n",
    "35548      35549     12   31  2002        5     NaN  NaN             NaN  NaN\n",
    "\n",
    "[35549 rows x 9 columns]\n",
    "```\n",
    "\n",
    "We can see that there were 33,549 rows parsed. Each row has 9\n",
    "columns. The first column is the index of the DataFrame. The index is used to\n",
    "identify the position of the data, but it is not an actual column of the DataFrame.\n",
    "It looks like  the `read_csv` function in Pandas  read our file properly. However,\n",
    "we haven't saved any data to memory so we can work with it.We need to assign the\n",
    "DataFrame to a variable. Remember that a variable is a name for a value, such as `x`,\n",
    "or  `data`. We can create a new  object with a variable name by assigning a value to it using `=`.\n",
    "\n",
    "Let's call the imported survey data `surveys_df`:\n",
    "\n"
   ]
  },
  {
   "cell_type": "code",
   "execution_count": null,
   "metadata": {},
   "outputs": [],
   "source": [
    "surveys_df = pd.read_csv(\"data/surveys.csv\")\n"
   ]
  },
  {
   "cell_type": "markdown",
   "metadata": {},
   "source": [
    "\n",
    "Notice when you assign the imported DataFrame to a variable, Python does not\n",
    "produce any output on the screen. We can view the value of the `surveys_df`\n",
    "object by typing its name into the Python command prompt.\n",
    "\n"
   ]
  },
  {
   "cell_type": "code",
   "execution_count": null,
   "metadata": {},
   "outputs": [],
   "source": [
    "surveys_df\n"
   ]
  },
  {
   "cell_type": "markdown",
   "metadata": {},
   "source": [
    "\n",
    "which prints contents like above.\n",
    "\n",
    "Note: if the output is too wide to print on your narrow terminal window, you may see something \n",
    "slightly different as the large set of data scrolls past. You may see simply the last column\n",
    "of data:\n"
   ]
  },
  {
   "cell_type": "code",
   "execution_count": null,
   "metadata": {},
   "outputs": [],
   "source": [
    "17        NaN  \n",
    "18        NaN  \n",
    "19        NaN  \n",
    "20        NaN  \n",
    "21        NaN  \n",
    "22        NaN  \n",
    "23        NaN  \n",
    "24        NaN  \n",
    "25        NaN  \n",
    "26        NaN  \n",
    "27        NaN  \n",
    "28        NaN  \n",
    "29        NaN  \n",
    "...       ...  \n",
    "35519    36.0  \n",
    "35520    48.0  \n",
    "35521    45.0  \n",
    "35522    44.0  \n",
    "35523    27.0  \n",
    "35524    26.0  \n",
    "35525    24.0  \n",
    "35526    43.0  \n",
    "35527     NaN  \n",
    "35528    25.0  \n",
    "35529     NaN  \n",
    "35530     NaN  \n",
    "35531    43.0  \n",
    "35532    48.0  \n",
    "35533    56.0  \n",
    "35534    53.0  \n",
    "35535    42.0  \n",
    "35536    46.0  \n",
    "35537    31.0  \n",
    "35538    68.0  \n",
    "35539    23.0  \n",
    "35540    31.0  \n",
    "35541    29.0  \n",
    "35542    34.0  \n",
    "35543     NaN  \n",
    "35544     NaN  \n",
    "35545     NaN  \n",
    "35546    14.0  \n",
    "35547    51.0  \n",
    "35548     NaN  \n",
    "\n",
    "[35549 rows x 9 columns]\n"
   ]
  },
  {
   "cell_type": "markdown",
   "metadata": {},
   "source": [
    "Never fear, all the data is there, if you scroll up. Selecting just a few rows, so it is\n",
    "easier to fit on one window, you can see that pandas has neatly formatted the data to fit\n",
    "our screen:\n",
    "\n"
   ]
  },
  {
   "cell_type": "code",
   "execution_count": null,
   "metadata": {},
   "outputs": [],
   "source": [
    "\n",
    ">>> surveys_df.head() # The head() function displays the first several lines of a file. It\n",
    "\t\t      # is discussed below.\n",
    "   record_id  month  day  year  plot_id species_id sex  hindfoot_length  \\\n",
    "5          6      7   16  1977        1         PF   M             14.0   \n",
    "6          7      7   16  1977        2         PE   F              NaN   \n",
    "7          8      7   16  1977        1         DM   M             37.0   \n",
    "8          9      7   16  1977        1         DM   F             34.0   \n",
    "9         10      7   16  1977        6         PF   F             20.0   \n",
    "\n",
    "   weight  \n",
    "5     NaN  \n",
    "6     NaN  \n",
    "7     NaN  \n",
    "8     NaN  \n",
    "9     NaN  \n"
   ]
  },
  {
   "cell_type": "markdown",
   "metadata": {},
   "source": [
    "\n"
   ]
  },
  {
   "cell_type": "markdown",
   "metadata": {},
   "source": [
    "## Exploring Our Species Survey Data\n",
    "\n",
    "Again, we can use the `type` function to see what kind of thing `surveys_df` is:\n",
    "\n"
   ]
  },
  {
   "cell_type": "code",
   "execution_count": null,
   "metadata": {},
   "outputs": [],
   "source": [
    "type(surveys_df)\n",
    "\n",
    "## Returns\n",
    "pandas.core.frame.DataFrame\n"
   ]
  },
  {
   "cell_type": "markdown",
   "metadata": {},
   "source": [
    "\n",
    "As expected, it's a DataFrame (or, to use the full name that Python uses to refer\n",
    "to it internally, a `pandas.core.frame.DataFrame`).\n",
    "\n",
    "What kind of things does `surveys_df` contain? DataFrames have an attribute\n",
    "called `dtypes` that answers this:\n",
    "\n"
   ]
  },
  {
   "cell_type": "code",
   "execution_count": null,
   "metadata": {},
   "outputs": [],
   "source": [
    "surveys_df.dtypes\n",
    "\n",
    "## Returns\n",
    "record_id            int64\n",
    "month                int64\n",
    "day                  int64\n",
    "year                 int64\n",
    "plot_id              int64\n",
    "species_id          object\n",
    "sex                 object\n",
    "hindfoot_length    float64\n",
    "weight             float64\n",
    "dtype: object\n"
   ]
  },
  {
   "cell_type": "markdown",
   "metadata": {},
   "source": [
    "\n",
    "All the values in a column have the same type. For example, months have type\n",
    "`int64`, which is a kind of integer. Cells in the month column cannot have\n",
    "fractional values, but the weight and hindfoot_length columns can, because they\n",
    "have type `float64`. The `object` type doesn't have a very helpful name, but in\n",
    "this case it represents strings (such as 'M' and 'F' in the case of sex).\n",
    "\n",
    "\n",
    "### Useful Ways to View DataFrame objects in Python\n",
    "\n",
    "There are many ways to summarize and access the data stored in DataFrames,\n",
    "using attributes and methods provided by the DataFrame object.\n",
    "\n",
    "To access an attribute, use the DataFrame object name followed by the attribute\n",
    "name `df_object.attribute`. Using the DataFrame `surveys_df` and attribute\n",
    "`columns`, an index of all the column names in the DataFrame can be accessed\n",
    "with `surveys_df.columns`.\n",
    "\n",
    "Methods are called in a similar fashion using the syntax `df_object.method()`.\n",
    "As an example, `surveys_df.head()` gets the first few rows in the DataFrame\n",
    "`surveys_df` using **the `head()` method**. With a method, we can supply extra\n",
    "information in the parens to control behaviour.\n",
    "\n",
    "Let's look at the data using these.\n",
    "\n"
   ]
  },
  {
   "cell_type": "markdown",
   "metadata": {},
   "source": [
    "## Challenge - DataFrames\n",
    "\n",
    "Using our DataFrame `surveys_df`, try out the attributes & methods below to see\n",
    "what they return.\n",
    "\n",
    "1. `surveys_df.columns`\n",
    "2. `surveys_df.shape` Take note of the output of `shape` - what format does it\n",
    "   return the shape of the DataFrame in?   HINT: [More on tuples, here](https://docs.python.org/3/tutorial/datastructures.html#tuples-and-sequences).\n",
    "3. `surveys_df.head()` Also, what does `surveys_df.head(15)` do?\n",
    "4. `surveys_df.tail()`\n",
    "\n",
    "\n"
   ]
  },
  {
   "cell_type": "markdown",
   "metadata": {},
   "source": [
    "## Calculating Statistics From Data In A Pandas DataFrame\n",
    "\n",
    "We've read our data into Python. Next, let's perform some quick summary\n",
    "statistics to learn more about the data that we're working with. We might want\n",
    "to know how many animals were collected in each plot, or how many of each\n",
    "species were caught. We can perform summary stats quickly using groups. But\n",
    "first we need to figure out what we want to group by.\n",
    "\n",
    "Let's begin by exploring our data:\n",
    "\n"
   ]
  },
  {
   "cell_type": "code",
   "execution_count": null,
   "metadata": {},
   "outputs": [],
   "source": [
    "# Look at the column names\n",
    "surveys_df.columns\n"
   ]
  },
  {
   "cell_type": "markdown",
   "metadata": {},
   "source": [
    "\n",
    "which **returns**:\n",
    "\n",
    "```\n",
    "Index(['record_id', 'month', 'day', 'year', 'plot_id', 'species_id', 'sex',\n",
    "       'hindfoot_length', 'weight'],\n",
    "      dtype='object')\n",
    "```\n",
    "\n",
    "Let's get a list of all the species. The `pd.unique` function tells us all of\n",
    "the unique values in the `species_id` column.\n",
    "\n"
   ]
  },
  {
   "cell_type": "code",
   "execution_count": null,
   "metadata": {},
   "outputs": [],
   "source": [
    "pd.unique(surveys_df['species_id'])\n"
   ]
  },
  {
   "cell_type": "markdown",
   "metadata": {},
   "source": [
    "\n",
    "which **returns**:\n",
    "\n"
   ]
  },
  {
   "cell_type": "code",
   "execution_count": null,
   "metadata": {},
   "outputs": [],
   "source": [
    "array(['NL', 'DM', 'PF', 'PE', 'DS', 'PP', 'SH', 'OT', 'DO', 'OX', 'SS',\n",
    "       'OL', 'RM', nan, 'SA', 'PM', 'AH', 'DX', 'AB', 'CB', 'CM', 'CQ',\n",
    "       'RF', 'PC', 'PG', 'PH', 'PU', 'CV', 'UR', 'UP', 'ZL', 'UL', 'CS',\n",
    "       'SC', 'BA', 'SF', 'RO', 'AS', 'SO', 'PI', 'ST', 'CU', 'SU', 'RX',\n",
    "       'PB', 'PL', 'PX', 'CT', 'US'], dtype=object)\n"
   ]
  },
  {
   "cell_type": "markdown",
   "metadata": {},
   "source": [
    "\n"
   ]
  },
  {
   "cell_type": "markdown",
   "metadata": {},
   "source": [
    "## Challenge - Statistics\n",
    "\n",
    "1. Create a list of unique plot ID's found in the surveys data. Call it\n",
    "  `plot_names`. How many unique plots are there in the data? How many unique\n",
    "  species are in the data?\n",
    "\n",
    "2. What is the difference between `len(plot_names)` and `surveys_df['plot_id'].nunique()`?\n",
    "\n",
    "# Groups in Pandas\n",
    "\n",
    "We often want to calculate summary statistics grouped by subsets or attributes\n",
    "within fields of our data. For example, we might want to calculate the average\n",
    "weight of all individuals per plot.\n",
    "\n",
    "We can calculate basic statistics for all records in a single column using the\n",
    "syntax below:\n",
    "\n"
   ]
  },
  {
   "cell_type": "code",
   "execution_count": null,
   "metadata": {},
   "outputs": [],
   "source": [
    "surveys_df['weight'].describe()\n"
   ]
  },
  {
   "cell_type": "markdown",
   "metadata": {},
   "source": [
    "gives **output**\n",
    "\n"
   ]
  },
  {
   "cell_type": "code",
   "execution_count": null,
   "metadata": {},
   "outputs": [],
   "source": [
    "count    32283.000000\n",
    "mean        42.672428\n",
    "std         36.631259\n",
    "min          4.000000\n",
    "25%         20.000000\n",
    "50%         37.000000\n",
    "75%         48.000000\n",
    "max        280.000000\n",
    "Name: weight, dtype: float64\n"
   ]
  },
  {
   "cell_type": "markdown",
   "metadata": {},
   "source": [
    "\n",
    "We can also extract one specific metric if we wish:\n",
    "\n"
   ]
  },
  {
   "cell_type": "code",
   "execution_count": null,
   "metadata": {},
   "outputs": [],
   "source": [
    "surveys_df['weight'].min()\n",
    "surveys_df['weight'].max()\n",
    "surveys_df['weight'].mean()\n",
    "surveys_df['weight'].std()\n",
    "surveys_df['weight'].count()\n"
   ]
  },
  {
   "cell_type": "markdown",
   "metadata": {},
   "source": [
    "\n",
    "But if we want to summarize by one or more variables, for example sex, we can\n",
    "use **Pandas' `.groupby` method**. Once we've created a groupby DataFrame, we\n",
    "can quickly calculate summary statistics by a group of our choice.\n",
    "\n"
   ]
  },
  {
   "cell_type": "code",
   "execution_count": null,
   "metadata": {},
   "outputs": [],
   "source": [
    "# Group data by sex\n",
    "grouped_data = surveys_df.groupby('sex')\n"
   ]
  },
  {
   "cell_type": "markdown",
   "metadata": {},
   "source": [
    "\n",
    "The **pandas function `describe`** will return descriptive stats including: mean,\n",
    "median, max, min, std and count for a particular column in the data. Pandas'\n",
    "`describe` function will only return summary values for columns containing\n",
    "numeric data.\n",
    "\n"
   ]
  },
  {
   "cell_type": "code",
   "execution_count": null,
   "metadata": {},
   "outputs": [],
   "source": [
    "# Summary statistics for all numeric columns by sex\n",
    "grouped_data.describe()\n",
    "# Provide the mean for each numeric column by sex\n",
    "grouped_data.mean()\n"
   ]
  },
  {
   "cell_type": "markdown",
   "metadata": {},
   "source": [
    "\n",
    "`grouped_data.mean()` **OUTPUT:**\n",
    "\n"
   ]
  },
  {
   "cell_type": "code",
   "execution_count": null,
   "metadata": {},
   "outputs": [],
   "source": [
    "        record_id     month        day         year    plot_id  \\\n",
    "sex                                                              \n",
    "F    18036.412046  6.583047  16.007138  1990.644997  11.440854   \n",
    "M    17754.835601  6.392668  16.184286  1990.480401  11.098282   \n",
    "\n",
    "     hindfoot_length     weight  \n",
    "sex                              \n",
    "F          28.836780  42.170555  \n",
    "M          29.709578  42.995379  \n",
    "\n"
   ]
  },
  {
   "cell_type": "markdown",
   "metadata": {},
   "source": [
    "\n",
    "The `groupby` command is powerful in that it allows us to quickly generate\n",
    "summary stats.\n",
    "\n"
   ]
  },
  {
   "cell_type": "markdown",
   "metadata": {},
   "source": [
    "## Challenge - Summary Data\n",
    "\n",
    "1. How many recorded individuals are female `F` and how many male `M`\n",
    "2. What happens when you group by two columns using the following syntax and\n",
    "    then grab mean values:\n",
    "\t- `grouped_data2 = surveys_df.groupby(['plot_id','sex'])`\n",
    "\t- `grouped_data2.mean()`\n",
    "3. Summarize weight values for each plot in your data. HINT: you can use the\n",
    "  following syntax to only create summary statistics for one column in your data\n",
    "  `by_plot['weight'].describe()`\n",
    "\n"
   ]
  },
  {
   "cell_type": "markdown",
   "metadata": {},
   "source": [
    "## Did you get #3 right?\n",
    " **A Snippet of the Output from challenge 3 looks like:**\n",
    "\n",
    "```\n",
    "\tplot\n",
    "\t1     count    1903.000000\n",
    "\t      mean       51.822911\n",
    "\t      std        38.176670\n",
    "\t      min         4.000000\n",
    "\t      25%        30.000000\n",
    "\t      50%        44.000000\n",
    "\t      75%        53.000000\n",
    "\t      max       231.000000\n",
    "         ...\n",
    "```\n",
    "\n"
   ]
  },
  {
   "cell_type": "markdown",
   "metadata": {},
   "source": [
    "## Quickly Creating Summary Counts in Pandas\n",
    "\n",
    "Let's next count the number of samples for each species. We can do this in a few\n",
    "ways, but we'll use `groupby` combined with **a `count()` method**.\n",
    "\n",
    "\n"
   ]
  },
  {
   "cell_type": "code",
   "execution_count": null,
   "metadata": {},
   "outputs": [],
   "source": [
    "# Count the number of samples by species\n",
    "species_counts = surveys_df.groupby('species_id')['record_id'].count()\n",
    "print(species_counts)\n"
   ]
  },
  {
   "cell_type": "markdown",
   "metadata": {},
   "source": [
    "\n",
    "Or, we can also count just the rows that have the species \"DO\":\n",
    "\n"
   ]
  },
  {
   "cell_type": "code",
   "execution_count": null,
   "metadata": {},
   "outputs": [],
   "source": [
    "surveys_df.groupby('species_id')['record_id'].count()['DO']\n"
   ]
  },
  {
   "cell_type": "markdown",
   "metadata": {},
   "source": [
    "\n"
   ]
  },
  {
   "cell_type": "markdown",
   "metadata": {},
   "source": [
    "## Basic Math Functions\n",
    "\n",
    "If we wanted to, we could perform math on an entire column of our data. For\n",
    "example let's multiply all weight values by 2. A more practical use of this might\n",
    "be to normalize the data according to a mean, area, or some other value\n",
    "calculated from our data.\n",
    "\n"
   ]
  },
  {
   "cell_type": "code",
   "execution_count": null,
   "metadata": {},
   "outputs": [],
   "source": [
    "\n",
    "# Multiply all weight values by 2 but does not change the original weight data\n",
    "\n",
    "surveys_df['weight']*2\n",
    "\n"
   ]
  },
  {
   "cell_type": "markdown",
   "metadata": {},
   "source": [
    "\n"
   ]
  },
  {
   "cell_type": "markdown",
   "metadata": {},
   "source": [
    "## Quick & Easy Plotting Data Using Pandas\n",
    "\n",
    "We can plot our summary stats using Pandas, too.\n",
    "\n"
   ]
  },
  {
   "cell_type": "code",
   "execution_count": null,
   "metadata": {},
   "outputs": [],
   "source": [
    "\n",
    "## To make sure figures appear inside Jupyter Notebook\n",
    "%matplotlib inline\n",
    "\n",
    "# Create a quick bar chart\n",
    "species_counts.plot(kind='bar');\n"
   ]
  },
  {
   "cell_type": "markdown",
   "metadata": {},
   "source": [
    "\n",
    "![Weight by Species Plot](images/each_species.jpg)\n",
    "\n",
    "Weight by species plot\n",
    "\n",
    "We can also look at how many animals were captured in each plot:\n",
    "\n"
   ]
  },
  {
   "cell_type": "code",
   "execution_count": null,
   "metadata": {},
   "outputs": [],
   "source": [
    "total_count = surveys_df.groupby('plot_id')['record_id'].nunique()\n",
    "# Let's plot that too\n",
    "total_count.plot(kind='bar');\n"
   ]
  },
  {
   "cell_type": "markdown",
   "metadata": {},
   "source": [
    "\n"
   ]
  },
  {
   "cell_type": "markdown",
   "metadata": {},
   "source": [
    "## _Extra Plotting Challenge_\n",
    "\n",
    "1. Create a plot of average weight across all species per plot.\n",
    "\n",
    "2. Create a plot of total males versus total females for the entire dataset.\n",
    " \n",
    "3. Create a stacked bar plot, with weight on the Y axis, and the stacked variable being sex. The plot should show total weight by sex for each plot. Some tips are below to help you solve this challenge:\n",
    "\n",
    "* [For more on Pandas plots, visit this link.](http://pandas.pydata.org/pandas-docs/stable/visualization.html#basic-plotting-plot)\n",
    "* You can use the code that follows to create a stacked bar plot but the data to stack\n",
    " need to be in individual columns.  Here's a simple example with some data where\n",
    "  'a', 'b', and 'c' are the groups, and 'one' and 'two' are the subgroups.\n",
    "\n",
    "```\n",
    "d = {'one' : pd.Series([1., 2., 3.], index=['a', 'b', 'c']),'two' : pd.Series([1., 2., 3., 4.], index=['a', 'b', 'c', 'd'])}\n",
    "pd.DataFrame(d)\n",
    "```\n",
    "\n",
    "shows the following data\n",
    "\n",
    "```\n",
    "      one  two\n",
    "   a    1    1\n",
    "   b    2    2\n",
    "   c    3    3\n",
    "   d  NaN    4\n",
    "```\n",
    "\n",
    "We can plot the above with\n",
    "\n",
    "```\n",
    "# Plot stacked data so columns 'one' and 'two' are stacked\n",
    "my_df = pd.DataFrame(d)\n",
    "my_df.plot(kind='bar',stacked=True,title=\"The title of my graph\")\n",
    "```\n",
    "\n",
    "\n",
    "* You can use the `.unstack()` method to transform grouped data into columns\n",
    "for each plotting.  Try running `.unstack()` on some DataFrames above and see\n",
    " what it yields.\n",
    "\n",
    " Start by transforming the grouped data (by plot and sex) into an unstacked layout, then create\n",
    " a stacked plot.\n",
    "\n",
    "\n"
   ]
  },
  {
   "cell_type": "markdown",
   "metadata": {},
   "source": [
    "## _Solution to Extra Challenge 3_\n",
    "\n",
    "First we group data by plot and by sex, and then calculate a total for each plot.\n",
    "\n"
   ]
  },
  {
   "cell_type": "code",
   "execution_count": null,
   "metadata": {},
   "outputs": [],
   "source": [
    "by_plot_sex = surveys_df.groupby(['plot_id','sex'])\n",
    "plot_sex_count = by_plot_sex['weight'].sum()\n"
   ]
  },
  {
   "cell_type": "markdown",
   "metadata": {},
   "source": [
    "\n",
    "This calculates the sums of weights for each sex within each plot as a table\n",
    "\n",
    "```\n",
    "plot  sex\n",
    "plot_id  sex\n",
    "1        F      38253\n",
    "         M      59979\n",
    "2        F      50144\n",
    "         M      57250\n",
    "3        F      27251\n",
    "         M      28253\n",
    "4        F      39796\n",
    "         M      49377\n",
    "<other plots removed for brevity>\n",
    "```\n",
    "\n",
    "Below we'll use `.unstack()` on our grouped data to figure out the total weight that each sex contributed to each plot.\n",
    "\n"
   ]
  },
  {
   "cell_type": "code",
   "execution_count": null,
   "metadata": {},
   "outputs": [],
   "source": [
    "by_plot_sex = surveys_df.groupby(['plot_id','sex'])\n",
    "plot_sex_count = by_plot_sex['weight'].sum()\n",
    "plot_sex_count.unstack()\n"
   ]
  },
  {
   "cell_type": "markdown",
   "metadata": {},
   "source": [
    "\n",
    "The `unstack` function above will display the following output:\n",
    "\n",
    "```\n",
    "sex          F      M\n",
    "plot_id              \n",
    "1        38253  59979\n",
    "2        50144  57250\n",
    "3        27251  28253\n",
    "4        39796  49377\n",
    "<other plots removed for brevity>\n",
    "```\n",
    "\n",
    "Now, create a stacked bar plot with that data where the weights for each sex are stacked by plot.\n",
    "\n",
    "Rather than display it as a table, we can plot the above data by stacking the values of each sex as follows:\n",
    "\n"
   ]
  },
  {
   "cell_type": "code",
   "execution_count": null,
   "metadata": {},
   "outputs": [],
   "source": [
    "by_plot_sex = surveys_df.groupby(['plot_id','sex'])\n",
    "plot_sex_count = by_plot_sex['weight'].sum()\n",
    "spc = plot_sex_count.unstack()\n",
    "s_plot = spc.plot(kind='bar',stacked=True,title=\"Total weight by plot and sex\")\n",
    "s_plot.set_ylabel(\"Weight\")\n",
    "s_plot.set_xlabel(\"Plot\")\n"
   ]
  },
  {
   "cell_type": "markdown",
   "metadata": {},
   "source": [
    "\n",
    "![Stacked Bar Plot](images/stacked_barplot.png)\n",
    "\n",
    "\n"
   ]
  }
 ],
 "metadata": {
  "celltoolbar": "Tags",
  "kernelspec": {
   "display_name": "Python 3",
   "language": "python",
   "name": "python3"
  },
  "language_info": {
   "codemirror_mode": {
    "name": "ipython",
    "version": 3
   },
   "file_extension": ".py",
   "mimetype": "text/x-python",
   "name": "python",
   "nbconvert_exporter": "python",
   "pygments_lexer": "ipython3",
   "version": "3.6.3"
  }
 },
 "nbformat": 4,
 "nbformat_minor": 2
}
