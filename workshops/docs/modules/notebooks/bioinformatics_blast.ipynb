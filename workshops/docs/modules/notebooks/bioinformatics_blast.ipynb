{
 "cells": [
  {
   "cell_type": "markdown",
   "metadata": {
    "slideshow": {
     "slide_type": "slide"
    }
   },
   "source": [
    "# Quick background - the evasin family\n",
    "\n",
    "Evasins are a family of secreted proteins found in ticks.\n",
    "\n",
    "They bind to cytokines and modulate the host immune response.\n",
    "\n",
    "The two well studied evasins, Evasin-1 and Evasin-4 from *Rhipicephalus sanguineus* are residues 114 and 127 residues long respectively.\n",
    "\n",
    "The three-dimensional structure of Evasin-1 from *Rhipicephalus sanguineus* is known (PDB ID: `3FPR`). The family contains a conserved patterns of four disulpide bonds."
   ]
  },
  {
   "cell_type": "markdown",
   "metadata": {
    "slideshow": {
     "slide_type": "slide"
    }
   },
   "source": [
    "## Running external tools from within Python - a BLAST search\n",
    "\n",
    "Let's run a BLAST search against the locally installed Uniprot database to find protein sequences similar to Evasin-1 and Evasin-4.\n",
    "\n",
    "`evasins_canonical.fasta` contains the sequences for Evasin-1 and Evasin-4. We know from prior work that they are paralogous, so we will BLAST search them both and combine all the hits.\n"
   ]
  },
  {
   "cell_type": "code",
   "execution_count": 1,
   "metadata": {
    "slideshow": {
     "slide_type": "slide"
    }
   },
   "outputs": [],
   "source": [
    "import subprocess\n",
    "database = '/mnt/references/uniprot/2017_10/uniprot_2017_10'\n",
    "\n",
    "# Since this takes ~5 min or more to run, we've prepared the \"evasins_canonical_uniprot.blast7\" output file earlier.\n",
    "# Please don't run it, if everyone does you'll probably bring down the Jupyter server !\n",
    "\n",
    "# process = subprocess.run('blastp -query evasins_canonical.fasta -out evasins_canonical_uniprot.blast7 -outfmt 7 -evalue 10 -db %s' % database, \n",
    "#                          shell=True, stdout=subprocess.PIPE, stderr=subprocess.PIPE)\n",
    "\n",
    "# print(process)"
   ]
  },
  {
   "cell_type": "code",
   "execution_count": 2,
   "metadata": {},
   "outputs": [
    {
     "data": {
      "text/plain": [
       "('evasins_canonical_uniprot.blast7', <http.client.HTTPMessage at 0x11193b0f0>)"
      ]
     },
     "execution_count": 2,
     "metadata": {},
     "output_type": "execute_result"
    }
   ],
   "source": [
    "# Instead, we will just download the results prepared earlier\n",
    "from urllib.request import urlretrieve\n",
    "github_base = \"https://raw.githubusercontent.com/MonashBioinformaticsPlatform/intro-to-python-for-bioinformatics/master/notebooks\"\n",
    "urlretrieve(\"%s/evasins_canonical.fasta\" % github_base, filename=\"evasins_canonical.fasta\")\n",
    "urlretrieve(\"%s/evasins_canonical_uniprot.blast7\" % github_base, filename=\"evasins_canonical_uniprot.blast7\")\n",
    "# urllib.request.urlretrieve(\"%s/evasins_uniprot_hits.fasta.complete\" % github_base, filename=\"evasins_uniprot_hits.fasta\")"
   ]
  },
  {
   "cell_type": "markdown",
   "metadata": {
    "slideshow": {
     "slide_type": "slide"
    }
   },
   "source": [
    "BLAST+ format 7 (`-outfmt 7`) looks like this:"
   ]
  },
  {
   "cell_type": "code",
   "execution_count": 3,
   "metadata": {
    "slideshow": {
     "slide_type": ""
    }
   },
   "outputs": [
    {
     "name": "stdout",
     "output_type": "stream",
     "text": [
      "# BLASTP 2.2.31+\n",
      "# Query: sp|P0C8E7|EVA1_RHISA Evasin-1 OS=Rhipicephalus sanguineus PE=1 SV=1\n",
      "# Database: /mnt/references/uniprot/2017_10/uniprot_2017_10\n",
      "# Fields: query id, subject id, % identity, alignment length, mismatches, gap opens, q. start, q. end, s. start, s. end, evalue, bit score\n",
      "# 123 hits found\n",
      "sp|P0C8E7|EVA1_RHISA\tsp|P0C8E7|EVA1_RHISA\t100.00\t114\t0\t0\t1\t114\t1\t114\t9e-78\t237\n",
      "sp|P0C8E7|EVA1_RHISA\ttr|C9W1N8|C9W1N8_RHISA\t99.12\t114\t1\t0\t1\t114\t1\t114\t3e-77\t235\n",
      "sp|P0C8E7|EVA1_RHISA\ttr|A0A131Z694|A0A131Z694_RHIAP\t57.01\t107\t41\t2\t13\t114\t19\t125\t5e-34\t125\n",
      "sp|P0C8E7|EVA1_RHISA\ttr|A0A131ZAV1|A0A131ZAV1_RHIAP\t64.44\t90\t31\t1\t23\t111\t18\t107\t6e-34\t125\n",
      "sp|P0C8E7|EVA1_RHISA\ttr|A0A131X8U1|A0A131X8U1_9ACAR\t56.18\t89\t38\t1\t25\t113\t1\t88\t3e-30\t115\n"
     ]
    }
   ],
   "source": [
    "!head evasins_canonical_uniprot.blast7"
   ]
  },
  {
   "cell_type": "markdown",
   "metadata": {
    "slideshow": {
     "slide_type": "slide"
    }
   },
   "source": [
    "The first few lines (`#`) contain metadata about the search that we can skip for now.\n",
    "Each BLAST hit is a single line with tab-seperated fields. The second field is the sequence ID we want.\n",
    "We will grab all the hits irrespective of e-value.\n",
    "\n",
    "First we will parse the `evasins_canonical_uniprot.blast7` file to create a list of hits.\n",
    "\n",
    "Once we have the IDs of each hit, we can use `blastdbcmd` to extract the full length sequences from the BLAST database."
   ]
  },
  {
   "cell_type": "code",
   "execution_count": 4,
   "metadata": {},
   "outputs": [
    {
     "data": {
      "text/plain": [
       "['sp|P0C8E7|EVA1_RHISA',\n",
       " 'tr|C9W1N8|C9W1N8_RHISA',\n",
       " 'tr|A0A131Z694|A0A131Z694_RHIAP',\n",
       " 'tr|A0A131ZAV1|A0A131ZAV1_RHIAP',\n",
       " 'tr|A0A131X8U1|A0A131X8U1_9ACAR']"
      ]
     },
     "execution_count": 4,
     "metadata": {},
     "output_type": "execute_result"
    }
   ],
   "source": [
    "blast_hits = []\n",
    "with open('evasins_canonical_uniprot.blast7', 'r') as fh:\n",
    "    for line in fh:\n",
    "        if line[0] != '#':\n",
    "            blast_hits.append(line.split('\\t')[1])\n",
    "\n",
    "blast_hits[0:5]"
   ]
  },
  {
   "cell_type": "markdown",
   "metadata": {
    "slideshow": {
     "slide_type": "slide"
    },
    "tags": [
     "challenge"
    ]
   },
   "source": [
    "## Challenge\n",
    "\n",
    "Rather than extracting the ID of the hits, can you also instead parse the E-value field and create a list of E-values ?"
   ]
  },
  {
   "cell_type": "markdown",
   "metadata": {
    "tags": [
     "solution"
    ]
   },
   "source": [
    "## Solution"
   ]
  },
  {
   "cell_type": "code",
   "execution_count": 5,
   "metadata": {
    "slideshow": {
     "slide_type": "slide"
    },
    "tags": [
     "solution"
    ]
   },
   "outputs": [
    {
     "data": {
      "text/plain": [
       "['9e-78', '3e-77', '5e-34', '6e-34', '3e-30']"
      ]
     },
     "execution_count": 5,
     "metadata": {},
     "output_type": "execute_result"
    }
   ],
   "source": [
    "e_values = []\n",
    "with open('evasins_canonical_uniprot.blast7', 'r') as fh:\n",
    "    for line in fh:\n",
    "        if line[0] != '#':\n",
    "            # hit_id = line.split('\\t')[1]\n",
    "            e = line.split('\\t')[10]\n",
    "            e_values.append(e)\n",
    "\n",
    "e_values[0:5]"
   ]
  },
  {
   "cell_type": "markdown",
   "metadata": {
    "slideshow": {
     "slide_type": "slide"
    }
   },
   "source": [
    "**Protip**: The scikit-bio package has a BLAST parser that captures all the fields into a Pandas dataframe. The BioPython package can also parse BLAST XML output. If I wasn't trying to demonstrate basic file parsing, I'd probably use one of those packages instead.\n",
    "\n",
    "http://scikit-bio.org/docs/latest/generated/skbio.io.format.blast7.html#module-skbio.io.format.blast7"
   ]
  },
  {
   "cell_type": "markdown",
   "metadata": {
    "slideshow": {
     "slide_type": "slide"
    }
   },
   "source": [
    "We want to ensure there are no duplicate IDs in our list (since the `blastp` command was supplied with two query sequences, Evasin-1 and Evasin-4, the `evasins_canonical_uniprot.blast7` output will contain the results of two BLAST searches).\n",
    "\n",
    "If we turn the `list` into a `set`, Python will automatically discard duplicate IDs."
   ]
  },
  {
   "cell_type": "code",
   "execution_count": 6,
   "metadata": {},
   "outputs": [
    {
     "name": "stdout",
     "output_type": "stream",
     "text": [
      "Total number of BLAST hits: 149\n"
     ]
    }
   ],
   "source": [
    "print(\"Total number of BLAST hits:\", len(blast_hits))"
   ]
  },
  {
   "cell_type": "code",
   "execution_count": 7,
   "metadata": {},
   "outputs": [],
   "source": [
    "blast_hits = set(blast_hits)"
   ]
  },
  {
   "cell_type": "code",
   "execution_count": 8,
   "metadata": {},
   "outputs": [
    {
     "name": "stdout",
     "output_type": "stream",
     "text": [
      "Number of hits with duplicates removed: 132\n"
     ]
    }
   ],
   "source": [
    "print(\"Number of hits with duplicates removed:\", len(blast_hits))"
   ]
  },
  {
   "cell_type": "markdown",
   "metadata": {
    "slideshow": {
     "slide_type": "slide"
    }
   },
   "source": [
    "Now we use `blastdbcmd` with out list of unique IDs to extract the full FASTA format sequence from the BLAST database."
   ]
  },
  {
   "cell_type": "code",
   "execution_count": 9,
   "metadata": {
    "slideshow": {
     "slide_type": "slide"
    }
   },
   "outputs": [
    {
     "data": {
      "text/plain": [
       "'blastdbcmd -db /mnt/references/uniprot/2017_10/uniprot_2017_10 -entry \"tr|A0A131YQC0|A0A131YQC0_RHIAP,tr|A0A0C9R5W8|A0A0C9R5W8_AMBAM,tr|A0A131YS46|A0A131YS46_RHIAP,tr|A0A023G9Q7|A0A023G9Q7_9ACAR,tr|A0A131Z694|A0A131Z694_RHIAP,tr|L7MAB0|L7MAB0_9ACAR,tr|G3MSY5|G3MSY5_9ACAR,tr|A0A131Z586|A0A131Z586_RHIAP,tr|A0A0C9S4J0|A0A0C9S4J0_AMBAM,tr|L7M8Z8|L7M8Z8_9ACAR,tr|A0A023FQ58|A0A023FQ58_9ACAR,tr|A0A023GCC3|A0A023GCC3_9ACAR,tr|A0A023G9N9|A0A023G9N9_9ACAR,tr|A0A131YUQ8|A0A131YUQ8_RHIAP,tr|A0A224Y3D0|A0A224Y3D0_9ACAR,tr|A0A023FCU0|A0A023FCU0_9ACAR,tr|A0A131YNV9|A0A131YNV9_RHIAP,sp|P0C8E9|EVA4_RHISA,tr|A0A224Y3D8|A0A224Y3D8_9ACAR,tr|A0A023G4G4|A0A023G4G4_9ACAR,tr|G3MIM7|G3MIM7_9ACAR,tr|A0A023FF01|A0A023FF01_9ACAR,tr|A0A023FEC6|A0A023FEC6_9ACAR,tr|A0A1E5SLG8|A0A1E5SLG8_9BACT,tr|A0A131X968|A0A131X968_9ACAR,tr|A0A023G2G7|A0A023G2G7_9ACAR,tr|A0A023G2M2|A0A023G2M2_9ACAR,tr|A0A023G6B6|A0A023G6B6_9ACAR,tr|A0A131XJ87|A0A131XJ87_9ACAR,tr|A0A023FQ65|A0A023FQ65_9ACAR,tr|A0A223FZ22|A0A223FZ22_RHIMP,tr|A0A023FRC3|A0A023FRC3_9ACAR,tr|A0A131YHW9|A0A131YHW9_RHIAP,tr|A0A023FQ59|A0A023FQ59_9ACAR,tr|A0A023GCB8|A0A023GCB8_9ACAR,tr|L7M8Y5|L7M8Y5_9ACAR,tr|A0A1E1WXB0|A0A1E1WXB0_9ACAR,tr|A0A0C9R5A0|A0A0C9R5A0_AMBAM,tr|A0A023GD07|A0A023GD07_9ACAR,tr|A0A023FQ56|A0A023FQ56_9ACAR,tr|A0A223FZ27|A0A223FZ27_RHIMP,tr|A0A023FG15|A0A023FG15_9ACAR,tr|A0A131X8U1|A0A131X8U1_9ACAR,tr|A0A0C9S3J8|A0A0C9S3J8_AMBAM,tr|A0A1E1X1C4|A0A1E1X1C4_9ACAR,tr|A0A023FQ55|A0A023FQ55_9ACAR,tr|A0A224YCT0|A0A224YCT0_9ACAR,tr|A0A0C9SDE2|A0A0C9SDE2_AMBAM,tr|A0A023G065|A0A023G065_9ACAR,tr|A0A023FC58|A0A023FC58_9ACAR,tr|A0A1E1WWB2|A0A1E1WWB2_9ACAR,tr|A0A0C9RX43|A0A0C9RX43_AMBAM,tr|A0A023FSY8|A0A023FSY8_9ACAR,sp|P0C8E7|EVA1_RHISA,tr|A0A023FF05|A0A023FF05_9ACAR,tr|A0A023FZ70|A0A023FZ70_9ACAR,tr|A0A1E1XT85|A0A1E1XT85_9ACAR,tr|A0A023FQC1|A0A023FQC1_9ACAR,tr|A0A1E1X165|A0A1E1X165_9ACAR,tr|A0A131Z2K5|A0A131Z2K5_RHIAP,tr|A0A224YE69|A0A224YE69_9ACAR,tr|A0A023FSX6|A0A023FSX6_9ACAR,tr|G3MSY7|G3MSY7_9ACAR,tr|A0A023FC02|A0A023FC02_9ACAR,tr|A0A023FE33|A0A023FE33_9ACAR,tr|L7MC72|L7MC72_9ACAR,tr|A0A023FTK5|A0A023FTK5_9ACAR,tr|A0A023FBW7|A0A023FBW7_9ACAR,tr|L7MC83|L7MC83_9ACAR,tr|A0A023G506|A0A023G506_9ACAR,tr|A0A023FG08|A0A023FG08_9ACAR,tr|A0A131Z5R5|A0A131Z5R5_RHIAP,tr|A0A131YFL3|A0A131YFL3_RHIAP,tr|L7LT68|L7LT68_9ACAR,tr|C9W1Q9|C9W1Q9_RHISA,tr|A0A023FC49|A0A023FC49_9ACAR,tr|A0A023FDY8|A0A023FDY8_9ACAR,tr|C9W1C3|C9W1C3_RHISA,tr|A0A023G2I5|A0A023G2I5_9ACAR,tr|A0A224YE79|A0A224YE79_9ACAR,tr|A0A224YCA7|A0A224YCA7_9ACAR,tr|A0A0F3KQC8|A0A0F3KQC8_9NEIS,tr|A0A023G9R1|A0A023G9R1_9ACAR,tr|A0A023FCX2|A0A023FCX2_9ACAR,tr|A0A023FRB3|A0A023FRB3_9ACAR,tr|A0A131Z6L7|A0A131Z6L7_RHIAP,tr|A0A023FSY4|A0A023FSY4_9ACAR,tr|A0A023G8N3|A0A023G8N3_9ACAR,tr|L7MC74|L7MC74_9ACAR,tr|A0A023FDV6|A0A023FDV6_9ACAR,tr|A0A0C9S461|A0A0C9S461_AMBAM,tr|A0A0C9SAC5|A0A0C9SAC5_AMBAM,tr|A0A131ZAV1|A0A131ZAV1_RHIAP,tr|A0A023G9R6|A0A023G9R6_9ACAR,tr|C9W1N8|C9W1N8_RHISA,tr|G3MIX6|G3MIX6_9ACAR,tr|G3MSY6|G3MSY6_9ACAR,tr|A0A023FD15|A0A023FD15_9ACAR,tr|A0A023FFD0|A0A023FFD0_9ACAR,tr|A0A224Y913|A0A224Y913_9ACAR,tr|A0A023FFB5|A0A023FFB5_9ACAR,tr|A0A131YRX0|A0A131YRX0_RHIAP,tr|A0A131YT06|A0A131YT06_RHIAP,tr|A0A023G9N2|A0A023G9N2_9ACAR,tr|A0A023FC51|A0A023FC51_9ACAR,tr|A0A023G9N5|A0A023G9N5_9ACAR,tr|A0A1E1X0E4|A0A1E1X0E4_9ACAR,tr|C9W1Q7|C9W1Q7_RHISA,tr|A0A224YCD7|A0A224YCD7_9ACAR,tr|A0A131Z6N2|A0A131Z6N2_RHIAP,tr|A0A023FCJ0|A0A023FCJ0_9ACAR,tr|A0A023G5I5|A0A023G5I5_9ACAR,tr|A0A023G4E4|A0A023G4E4_9ACAR,tr|A0A0C9RVT5|A0A0C9RVT5_AMBAM,tr|A0A131XLS7|A0A131XLS7_9ACAR,tr|A0A023FDQ9|A0A023FDQ9_9ACAR,tr|G3MJ83|G3MJ83_9ACAR,tr|A0A023FG84|A0A023FG84_9ACAR,tr|A0A224Y3C9|A0A224Y3C9_9ACAR,tr|A0A023GD11|A0A023GD11_9ACAR,tr|A0A0C9R689|A0A0C9R689_AMBAM,tr|A0A023FT53|A0A023FT53_9ACAR,tr|A0A023FED6|A0A023FED6_9ACAR,tr|A0A023G2D8|A0A023G2D8_9ACAR,tr|W6KVX4|W6KVX4_9TRYP,tr|L7MA80|L7MA80_9ACAR,tr|A0A023G109|A0A023G109_9ACAR,tr|A0A131Z5M0|A0A131Z5M0_RHIAP,tr|A0A023FC52|A0A023FC52_9ACAR,tr|A0A023G159|A0A023G159_9ACAR,tr|A0A224YE88|A0A224YE88_9ACAR,tr|A0A023FZW1|A0A023FZW1_9ACAR\" >evasins_uniprot_hits.fasta'"
      ]
     },
     "execution_count": 9,
     "metadata": {},
     "output_type": "execute_result"
    }
   ],
   "source": [
    "# We redirect to a file with '>' using the Unix shell command, rather than \n",
    "# capturing stdout in process.stdout\n",
    "cmd = 'blastdbcmd -db %s -entry \"%s\" >evasins_uniprot_hits.fasta' % (database, ','.join(blast_hits))\n",
    "cmd"
   ]
  },
  {
   "cell_type": "code",
   "execution_count": 10,
   "metadata": {
    "slideshow": {
     "slide_type": "slide"
    }
   },
   "outputs": [],
   "source": [
    "import subprocess\n",
    "\n",
    "process = subprocess.run(cmd, shell=True, stderr=subprocess.PIPE)\n",
    "\n",
    "# If you'd like to skip this step (eg if you don't have blastdbcmd or a local Uniprot BLAST database available),\n",
    "# you can run:\n",
    "#\n",
    "# !cp evasins_uniprot_hits.fasta.complete evasins_uniprot_hits.fasta\n",
    "#\n",
    "# to create a copy of the expected output sequences."
   ]
  },
  {
   "cell_type": "code",
   "execution_count": 11,
   "metadata": {},
   "outputs": [],
   "source": [
    "# Take a peek at the output of our `blastdbcmd`, in the file evasin1_uniprot.fasta\n",
    "!head evasins_uniprot_hits.fasta"
   ]
  },
  {
   "cell_type": "markdown",
   "metadata": {
    "slideshow": {
     "slide_type": "slide"
    }
   },
   "source": [
    "## Using the Python ecosystem: FASTA parsing with skbio.io\n",
    "\n",
    "http://scikit-bio.org/docs/latest/io.html\n",
    "\n",
    "Since you know how to parse a file now, you could go ahead and write a FASTA format parser to read in our new set of putative evasin sequences. However, for most common file formats a parser already exists to make your life easier. We are going to use the one `scikit-bio` provides (`Bio.SeqIO` from Biopython would be another reasonable option).\n",
    "\n",
    "*If you are curious, you'll find a quick-n-dirty example of a hand written FASTA parser in the `DIY_FASTA.ipynb` notebook.*"
   ]
  },
  {
   "cell_type": "code",
   "execution_count": 12,
   "metadata": {
    "scrolled": false,
    "slideshow": {
     "slide_type": "slide"
    }
   },
   "outputs": [
    {
     "name": "stdout",
     "output_type": "stream",
     "text": [
      "Requirement already satisfied: scikit-bio==0.5.1 in /Users/perry/.virtualenvs/jupyter/lib/python3.6/site-packages\n",
      "Requirement already satisfied: matplotlib>=1.4.3 in /Users/perry/.virtualenvs/jupyter/lib/python3.6/site-packages (from scikit-bio==0.5.1)\n",
      "Requirement already satisfied: scipy>=0.15.1 in /Users/perry/.virtualenvs/jupyter/lib/python3.6/site-packages (from scikit-bio==0.5.1)\n",
      "Requirement already satisfied: pandas>=0.18.0 in /Users/perry/.virtualenvs/jupyter/lib/python3.6/site-packages (from scikit-bio==0.5.1)\n",
      "Requirement already satisfied: nose>=1.3.7 in /Users/perry/.virtualenvs/jupyter/lib/python3.6/site-packages (from scikit-bio==0.5.1)\n",
      "Requirement already satisfied: decorator>=3.4.2 in /Users/perry/.virtualenvs/jupyter/lib/python3.6/site-packages (from scikit-bio==0.5.1)\n",
      "Requirement already satisfied: numpy>=1.9.2 in /Users/perry/.virtualenvs/jupyter/lib/python3.6/site-packages (from scikit-bio==0.5.1)\n",
      "Requirement already satisfied: natsort>=4.0.3 in /Users/perry/.virtualenvs/jupyter/lib/python3.6/site-packages (from scikit-bio==0.5.1)\n",
      "Requirement already satisfied: IPython>=3.2.0 in /Users/perry/.virtualenvs/jupyter/lib/python3.6/site-packages (from scikit-bio==0.5.1)\n",
      "Requirement already satisfied: lockfile>=0.10.2 in /Users/perry/.virtualenvs/jupyter/lib/python3.6/site-packages (from scikit-bio==0.5.1)\n",
      "Requirement already satisfied: CacheControl>=0.11.5 in /Users/perry/.virtualenvs/jupyter/lib/python3.6/site-packages (from scikit-bio==0.5.1)\n",
      "Requirement already satisfied: python-dateutil>=2.0 in /Users/perry/.virtualenvs/jupyter/lib/python3.6/site-packages (from matplotlib>=1.4.3->scikit-bio==0.5.1)\n",
      "Requirement already satisfied: pyparsing!=2.0.4,!=2.1.2,!=2.1.6,>=2.0.1 in /Users/perry/.virtualenvs/jupyter/lib/python3.6/site-packages (from matplotlib>=1.4.3->scikit-bio==0.5.1)\n",
      "Requirement already satisfied: pytz in /Users/perry/.virtualenvs/jupyter/lib/python3.6/site-packages (from matplotlib>=1.4.3->scikit-bio==0.5.1)\n",
      "Requirement already satisfied: six>=1.10 in /Users/perry/.virtualenvs/jupyter/lib/python3.6/site-packages (from matplotlib>=1.4.3->scikit-bio==0.5.1)\n",
      "Requirement already satisfied: cycler>=0.10 in /Users/perry/.virtualenvs/jupyter/lib/python3.6/site-packages (from matplotlib>=1.4.3->scikit-bio==0.5.1)\n",
      "Requirement already satisfied: simplegeneric>0.8 in /Users/perry/.virtualenvs/jupyter/lib/python3.6/site-packages (from IPython>=3.2.0->scikit-bio==0.5.1)\n",
      "Requirement already satisfied: traitlets>=4.2 in /Users/perry/.virtualenvs/jupyter/lib/python3.6/site-packages (from IPython>=3.2.0->scikit-bio==0.5.1)\n",
      "Requirement already satisfied: setuptools>=18.5 in /Users/perry/.virtualenvs/jupyter/lib/python3.6/site-packages (from IPython>=3.2.0->scikit-bio==0.5.1)\n",
      "Requirement already satisfied: pickleshare in /Users/perry/.virtualenvs/jupyter/lib/python3.6/site-packages (from IPython>=3.2.0->scikit-bio==0.5.1)\n",
      "Requirement already satisfied: prompt-toolkit<2.0.0,>=1.0.4 in /Users/perry/.virtualenvs/jupyter/lib/python3.6/site-packages (from IPython>=3.2.0->scikit-bio==0.5.1)\n",
      "Requirement already satisfied: appnope; sys_platform == \"darwin\" in /Users/perry/.virtualenvs/jupyter/lib/python3.6/site-packages (from IPython>=3.2.0->scikit-bio==0.5.1)\n",
      "Requirement already satisfied: pexpect; sys_platform != \"win32\" in /Users/perry/.virtualenvs/jupyter/lib/python3.6/site-packages (from IPython>=3.2.0->scikit-bio==0.5.1)\n",
      "Requirement already satisfied: pygments in /Users/perry/.virtualenvs/jupyter/lib/python3.6/site-packages (from IPython>=3.2.0->scikit-bio==0.5.1)\n",
      "Requirement already satisfied: jedi>=0.10 in /Users/perry/.virtualenvs/jupyter/lib/python3.6/site-packages (from IPython>=3.2.0->scikit-bio==0.5.1)\n",
      "Requirement already satisfied: msgpack-python in /Users/perry/.virtualenvs/jupyter/lib/python3.6/site-packages (from CacheControl>=0.11.5->scikit-bio==0.5.1)\n",
      "Requirement already satisfied: requests in /Users/perry/.virtualenvs/jupyter/lib/python3.6/site-packages (from CacheControl>=0.11.5->scikit-bio==0.5.1)\n",
      "Requirement already satisfied: ipython-genutils in /Users/perry/.virtualenvs/jupyter/lib/python3.6/site-packages (from traitlets>=4.2->IPython>=3.2.0->scikit-bio==0.5.1)\n",
      "Requirement already satisfied: wcwidth in /Users/perry/.virtualenvs/jupyter/lib/python3.6/site-packages (from prompt-toolkit<2.0.0,>=1.0.4->IPython>=3.2.0->scikit-bio==0.5.1)\n",
      "Requirement already satisfied: ptyprocess>=0.5 in /Users/perry/.virtualenvs/jupyter/lib/python3.6/site-packages (from pexpect; sys_platform != \"win32\"->IPython>=3.2.0->scikit-bio==0.5.1)\n",
      "Requirement already satisfied: parso==0.1.0 in /Users/perry/.virtualenvs/jupyter/lib/python3.6/site-packages (from jedi>=0.10->IPython>=3.2.0->scikit-bio==0.5.1)\n",
      "Requirement already satisfied: chardet<3.1.0,>=3.0.2 in /Users/perry/.virtualenvs/jupyter/lib/python3.6/site-packages (from requests->CacheControl>=0.11.5->scikit-bio==0.5.1)\n",
      "Requirement already satisfied: urllib3<1.23,>=1.21.1 in /Users/perry/.virtualenvs/jupyter/lib/python3.6/site-packages (from requests->CacheControl>=0.11.5->scikit-bio==0.5.1)\n",
      "Requirement already satisfied: idna<2.7,>=2.5 in /Users/perry/.virtualenvs/jupyter/lib/python3.6/site-packages (from requests->CacheControl>=0.11.5->scikit-bio==0.5.1)\n",
      "Requirement already satisfied: certifi>=2017.4.17 in /Users/perry/.virtualenvs/jupyter/lib/python3.6/site-packages (from requests->CacheControl>=0.11.5->scikit-bio==0.5.1)\n",
      "\u001b[33mYou are using pip version 9.0.1, however version 10.0.1 is available.\n",
      "You should consider upgrading via the 'pip install --upgrade pip' command.\u001b[0m\n"
     ]
    }
   ],
   "source": [
    "!pip install scikit-bio==0.5.1"
   ]
  },
  {
   "cell_type": "code",
   "execution_count": 13,
   "metadata": {
    "scrolled": false,
    "slideshow": {
     "slide_type": "slide"
    }
   },
   "outputs": [],
   "source": [
    "import skbio.io"
   ]
  },
  {
   "cell_type": "code",
   "execution_count": 14,
   "metadata": {
    "scrolled": false
   },
   "outputs": [
    {
     "name": "stderr",
     "output_type": "stream",
     "text": [
      "/Users/perry/.virtualenvs/jupyter/lib/python3.6/site-packages/skbio/io/registry.py:548: FormatIdentificationWarning: <_io.TextIOWrapper name='evasins_uniprot_hits.fasta' mode='r' encoding='UTF-8'> does not look like a fasta file\n",
      "  % (file, fmt), FormatIdentificationWarning)\n"
     ]
    }
   ],
   "source": [
    "seqs = []\n",
    "with open('evasins_uniprot_hits.fasta') as fh:\n",
    "    for seq in skbio.io.read(fh, format='fasta'):\n",
    "        seqs.append(seq)"
   ]
  },
  {
   "cell_type": "code",
   "execution_count": 15,
   "metadata": {},
   "outputs": [
    {
     "data": {
      "text/plain": [
       "0"
      ]
     },
     "execution_count": 15,
     "metadata": {},
     "output_type": "execute_result"
    }
   ],
   "source": [
    "len(seqs)"
   ]
  },
  {
   "cell_type": "code",
   "execution_count": 16,
   "metadata": {
    "scrolled": false,
    "slideshow": {
     "slide_type": "slide"
    }
   },
   "outputs": [
    {
     "ename": "IndexError",
     "evalue": "list index out of range",
     "output_type": "error",
     "traceback": [
      "\u001b[0;31m---------------------------------------------------------------------------\u001b[0m",
      "\u001b[0;31mIndexError\u001b[0m                                Traceback (most recent call last)",
      "\u001b[0;32m<ipython-input-16-85e31f0198f3>\u001b[0m in \u001b[0;36m<module>\u001b[0;34m()\u001b[0m\n\u001b[0;32m----> 1\u001b[0;31m \u001b[0mprint\u001b[0m\u001b[0;34m(\u001b[0m\u001b[0mrepr\u001b[0m\u001b[0;34m(\u001b[0m\u001b[0mseqs\u001b[0m\u001b[0;34m[\u001b[0m\u001b[0;36m0\u001b[0m\u001b[0;34m]\u001b[0m\u001b[0;34m)\u001b[0m\u001b[0;34m)\u001b[0m\u001b[0;34m\u001b[0m\u001b[0m\n\u001b[0m",
      "\u001b[0;31mIndexError\u001b[0m: list index out of range"
     ]
    }
   ],
   "source": [
    "print(repr(seqs[0]))"
   ]
  },
  {
   "cell_type": "code",
   "execution_count": 17,
   "metadata": {},
   "outputs": [
    {
     "ename": "IndexError",
     "evalue": "list index out of range",
     "output_type": "error",
     "traceback": [
      "\u001b[0;31m---------------------------------------------------------------------------\u001b[0m",
      "\u001b[0;31mIndexError\u001b[0m                                Traceback (most recent call last)",
      "\u001b[0;32m<ipython-input-17-588f4a594cb1>\u001b[0m in \u001b[0;36m<module>\u001b[0;34m()\u001b[0m\n\u001b[0;32m----> 1\u001b[0;31m \u001b[0mtype\u001b[0m\u001b[0;34m(\u001b[0m\u001b[0mseqs\u001b[0m\u001b[0;34m[\u001b[0m\u001b[0;36m0\u001b[0m\u001b[0;34m]\u001b[0m\u001b[0;34m)\u001b[0m\u001b[0;34m\u001b[0m\u001b[0m\n\u001b[0m",
      "\u001b[0;31mIndexError\u001b[0m: list index out of range"
     ]
    }
   ],
   "source": [
    "type(seqs[0])"
   ]
  },
  {
   "cell_type": "code",
   "execution_count": 18,
   "metadata": {
    "scrolled": true,
    "slideshow": {
     "slide_type": "slide"
    }
   },
   "outputs": [
    {
     "ename": "IndexError",
     "evalue": "list index out of range",
     "output_type": "error",
     "traceback": [
      "\u001b[0;31m---------------------------------------------------------------------------\u001b[0m",
      "\u001b[0;31mIndexError\u001b[0m                                Traceback (most recent call last)",
      "\u001b[0;32m<ipython-input-18-6bf9d76f0309>\u001b[0m in \u001b[0;36m<module>\u001b[0;34m()\u001b[0m\n\u001b[0;32m----> 1\u001b[0;31m \u001b[0mhelp\u001b[0m\u001b[0;34m(\u001b[0m\u001b[0mseqs\u001b[0m\u001b[0;34m[\u001b[0m\u001b[0;36m0\u001b[0m\u001b[0;34m]\u001b[0m\u001b[0;34m)\u001b[0m\u001b[0;34m\u001b[0m\u001b[0m\n\u001b[0m",
      "\u001b[0;31mIndexError\u001b[0m: list index out of range"
     ]
    }
   ],
   "source": [
    "help(seqs[0])"
   ]
  },
  {
   "cell_type": "markdown",
   "metadata": {},
   "source": [
    "Or, look at the nicely formatted version online: http://scikit-bio.org/docs/latest/generated/skbio.sequence.Sequence.html#skbio.sequence.Sequence"
   ]
  },
  {
   "cell_type": "code",
   "execution_count": 19,
   "metadata": {
    "slideshow": {
     "slide_type": "slide"
    }
   },
   "outputs": [
    {
     "ename": "IndexError",
     "evalue": "list index out of range",
     "output_type": "error",
     "traceback": [
      "\u001b[0;31m---------------------------------------------------------------------------\u001b[0m",
      "\u001b[0;31mIndexError\u001b[0m                                Traceback (most recent call last)",
      "\u001b[0;32m<ipython-input-19-baf8dd596e4f>\u001b[0m in \u001b[0;36m<module>\u001b[0;34m()\u001b[0m\n\u001b[0;32m----> 1\u001b[0;31m \u001b[0mseqs\u001b[0m\u001b[0;34m[\u001b[0m\u001b[0;36m0\u001b[0m\u001b[0;34m]\u001b[0m\u001b[0;34m.\u001b[0m\u001b[0mmetadata\u001b[0m\u001b[0;34m\u001b[0m\u001b[0m\n\u001b[0m",
      "\u001b[0;31mIndexError\u001b[0m: list index out of range"
     ]
    }
   ],
   "source": [
    "seqs[0].metadata"
   ]
  },
  {
   "cell_type": "code",
   "execution_count": 20,
   "metadata": {},
   "outputs": [
    {
     "ename": "IndexError",
     "evalue": "list index out of range",
     "output_type": "error",
     "traceback": [
      "\u001b[0;31m---------------------------------------------------------------------------\u001b[0m",
      "\u001b[0;31mIndexError\u001b[0m                                Traceback (most recent call last)",
      "\u001b[0;32m<ipython-input-20-fbefbc283410>\u001b[0m in \u001b[0;36m<module>\u001b[0;34m()\u001b[0m\n\u001b[1;32m      1\u001b[0m \u001b[0;31m# A numpy array of each character in the sequence\u001b[0m\u001b[0;34m\u001b[0m\u001b[0;34m\u001b[0m\u001b[0m\n\u001b[0;32m----> 2\u001b[0;31m \u001b[0mseqs\u001b[0m\u001b[0;34m[\u001b[0m\u001b[0;36m0\u001b[0m\u001b[0;34m]\u001b[0m\u001b[0;34m.\u001b[0m\u001b[0mvalues\u001b[0m\u001b[0;34m\u001b[0m\u001b[0m\n\u001b[0m",
      "\u001b[0;31mIndexError\u001b[0m: list index out of range"
     ]
    }
   ],
   "source": [
    "# A numpy array of each character in the sequence\n",
    "seqs[0].values"
   ]
  },
  {
   "cell_type": "code",
   "execution_count": 21,
   "metadata": {
    "slideshow": {
     "slide_type": "slide"
    }
   },
   "outputs": [
    {
     "ename": "IndexError",
     "evalue": "list index out of range",
     "output_type": "error",
     "traceback": [
      "\u001b[0;31m---------------------------------------------------------------------------\u001b[0m",
      "\u001b[0;31mIndexError\u001b[0m                                Traceback (most recent call last)",
      "\u001b[0;32m<ipython-input-21-db5fc5f17206>\u001b[0m in \u001b[0;36m<module>\u001b[0;34m()\u001b[0m\n\u001b[1;32m      1\u001b[0m \u001b[0;31m# Sequence implements a magic __str__ method that allows it to be converted to a string representation\u001b[0m\u001b[0;34m\u001b[0m\u001b[0;34m\u001b[0m\u001b[0m\n\u001b[0;32m----> 2\u001b[0;31m \u001b[0mstr\u001b[0m\u001b[0;34m(\u001b[0m\u001b[0mseqs\u001b[0m\u001b[0;34m[\u001b[0m\u001b[0;36m0\u001b[0m\u001b[0;34m]\u001b[0m\u001b[0;34m)\u001b[0m\u001b[0;34m\u001b[0m\u001b[0m\n\u001b[0m",
      "\u001b[0;31mIndexError\u001b[0m: list index out of range"
     ]
    }
   ],
   "source": [
    "# Sequence implements a magic __str__ method that allows it to be converted to a string representation\n",
    "str(seqs[0])"
   ]
  },
  {
   "cell_type": "markdown",
   "metadata": {
    "slideshow": {
     "slide_type": "slide"
    }
   },
   "source": [
    "It's not uncommon for FASTA sequences of protein to include 'X' residues when a residue type is undetermined.\n",
    "\n",
    "Let's see if there are any 'X' residues in sequences of our set."
   ]
  },
  {
   "cell_type": "code",
   "execution_count": 22,
   "metadata": {
    "scrolled": false
   },
   "outputs": [
    {
     "name": "stdout",
     "output_type": "stream",
     "text": [
      "\n",
      "Total sequences: 0\n",
      "Sequences with X residues 0\n"
     ]
    }
   ],
   "source": [
    "x_seqs = []\n",
    "for seq in seqs:\n",
    "    if seq.count('X') >= 1:\n",
    "        x_seqs.append(seq)\n",
    "        \n",
    "print(', '.join([s.metadata['id'] for s in x_seqs]))\n",
    "\n",
    "print(\"Total sequences:\", len(seqs))\n",
    "print(\"Sequences with X residues\", len(x_seqs))"
   ]
  },
  {
   "cell_type": "markdown",
   "metadata": {
    "slideshow": {
     "slide_type": "slide"
    },
    "tags": [
     "challenge"
    ]
   },
   "source": [
    "## Challenge\n",
    "\n",
    "Write a function `enough_cys` that will return a list of sequences with eight or more cysteine residues. (Hint: A cyteine residue is represented by a 'C' character).\n",
    "\n",
    "Once the function is written, we should be able to type:\n",
    "\n",
    "```python\n",
    "cys_seqs = enough_cys(seqs, 8)\n",
    "```\n",
    "\n",
    "and get a list of sequences with 8+ cysteine residues."
   ]
  },
  {
   "cell_type": "markdown",
   "metadata": {
    "tags": [
     "solution"
    ]
   },
   "source": [
    "## Solution"
   ]
  },
  {
   "cell_type": "code",
   "execution_count": 23,
   "metadata": {
    "scrolled": false,
    "slideshow": {
     "slide_type": "slide"
    },
    "tags": [
     "solution"
    ]
   },
   "outputs": [
    {
     "name": "stdout",
     "output_type": "stream",
     "text": [
      "Total sequences: 0\n",
      "Sequences with >= 8 cyteines 0\n"
     ]
    }
   ],
   "source": [
    "def enough_cys(sequences, min_cys=8):\n",
    "    \"\"\"\n",
    "    Given a list of sequences (scikit-bio Sequence or strings), return a list\n",
    "    with `min_cys` or more cysteine residues.\n",
    "    \"\"\"\n",
    "    cys = []\n",
    "    for seq in sequences:\n",
    "        # https://docs.python.org/3.6/library/stdtypes.html#str.count\n",
    "        if seq.count('C') >= min_cys:\n",
    "            # print('>{seq_id}'.format(seq_id=seq_id))\n",
    "            # print(seq)\n",
    "            cys.append(seq)\n",
    "    \n",
    "    return cys\n",
    "\n",
    "cys_seqs = enough_cys(seqs, 8)\n",
    "\n",
    "print(\"Total sequences:\", len(seqs))\n",
    "print(\"Sequences with >= 8 cyteines\", len(cys_seqs))\n",
    "\n",
    "# Bonus: You can use `assert` with some condition to test expected outputs of your function\n",
    "# If any assertion fails, an error is raised. Otherwise they just execute silently.\n",
    "assert len(enough_cys([\"M\" + \"CA\"*10, \"MCACAC\"])) == 1\n",
    "assert len(enough_cys([\"M\" + \"CA\"*10, \"MCACAC\"], min_cys=3)) == 2\n",
    "assert \"MCACAC\" not in enough_cys([\"M\" + \"CA\"*10, \"MCACAC\"])"
   ]
  },
  {
   "cell_type": "markdown",
   "metadata": {
    "slideshow": {
     "slide_type": "slide"
    }
   },
   "source": [
    "We can also write a set of sequences back to a file"
   ]
  },
  {
   "cell_type": "code",
   "execution_count": 24,
   "metadata": {
    "scrolled": false
   },
   "outputs": [],
   "source": [
    "with open('evasins_8cys.fasta', 'w') as outfile:\n",
    "    for seq in cys_seqs:\n",
    "        # The Sequence object from scikit-bio implements a 'write' method\n",
    "        # that writes the sequence in FASTA format to an open file handle\n",
    "        seq.write(outfile)\n",
    "\n",
    "# Let's reassign the variable 'seqs' to point to our set with 8+ cysteines\n",
    "seqs = cys_seqs"
   ]
  },
  {
   "cell_type": "markdown",
   "metadata": {
    "slideshow": {
     "slide_type": "slide"
    }
   },
   "source": [
    "## Plotting with Plotly"
   ]
  },
  {
   "cell_type": "code",
   "execution_count": 25,
   "metadata": {
    "scrolled": false
   },
   "outputs": [
    {
     "name": "stdout",
     "output_type": "stream",
     "text": [
      "Requirement already satisfied: plotly==2.2.1 in /Users/perry/.virtualenvs/jupyter/lib/python3.6/site-packages\n",
      "Requirement already satisfied: requests in /Users/perry/.virtualenvs/jupyter/lib/python3.6/site-packages (from plotly==2.2.1)\n",
      "Requirement already satisfied: nbformat>=4.2 in /Users/perry/.virtualenvs/jupyter/lib/python3.6/site-packages (from plotly==2.2.1)\n",
      "Requirement already satisfied: decorator>=4.0.6 in /Users/perry/.virtualenvs/jupyter/lib/python3.6/site-packages (from plotly==2.2.1)\n",
      "Requirement already satisfied: six in /Users/perry/.virtualenvs/jupyter/lib/python3.6/site-packages (from plotly==2.2.1)\n",
      "Requirement already satisfied: pytz in /Users/perry/.virtualenvs/jupyter/lib/python3.6/site-packages (from plotly==2.2.1)\n",
      "Requirement already satisfied: idna<2.7,>=2.5 in /Users/perry/.virtualenvs/jupyter/lib/python3.6/site-packages (from requests->plotly==2.2.1)\n",
      "Requirement already satisfied: urllib3<1.23,>=1.21.1 in /Users/perry/.virtualenvs/jupyter/lib/python3.6/site-packages (from requests->plotly==2.2.1)\n",
      "Requirement already satisfied: chardet<3.1.0,>=3.0.2 in /Users/perry/.virtualenvs/jupyter/lib/python3.6/site-packages (from requests->plotly==2.2.1)\n",
      "Requirement already satisfied: certifi>=2017.4.17 in /Users/perry/.virtualenvs/jupyter/lib/python3.6/site-packages (from requests->plotly==2.2.1)\n",
      "Requirement already satisfied: traitlets>=4.1 in /Users/perry/.virtualenvs/jupyter/lib/python3.6/site-packages (from nbformat>=4.2->plotly==2.2.1)\n",
      "Requirement already satisfied: jupyter-core in /Users/perry/.virtualenvs/jupyter/lib/python3.6/site-packages (from nbformat>=4.2->plotly==2.2.1)\n",
      "Requirement already satisfied: ipython-genutils in /Users/perry/.virtualenvs/jupyter/lib/python3.6/site-packages (from nbformat>=4.2->plotly==2.2.1)\n",
      "Requirement already satisfied: jsonschema!=2.5.0,>=2.4 in /Users/perry/.virtualenvs/jupyter/lib/python3.6/site-packages (from nbformat>=4.2->plotly==2.2.1)\n",
      "\u001b[33mYou are using pip version 9.0.1, however version 10.0.1 is available.\n",
      "You should consider upgrading via the 'pip install --upgrade pip' command.\u001b[0m\n"
     ]
    }
   ],
   "source": [
    "!pip install plotly==2.2.1"
   ]
  },
  {
   "cell_type": "code",
   "execution_count": 26,
   "metadata": {
    "scrolled": false,
    "slideshow": {
     "slide_type": "slide"
    }
   },
   "outputs": [],
   "source": [
    "# By importing Plotly this way we can avoid 'logging in' to use it\n",
    "import plotly.graph_objs as go\n",
    "from plotly.offline import download_plotlyjs, init_notebook_mode, plot, iplot"
   ]
  },
  {
   "cell_type": "code",
   "execution_count": 27,
   "metadata": {
    "scrolled": false,
    "slideshow": {
     "slide_type": ""
    }
   },
   "outputs": [
    {
     "data": {
      "text/html": [
       "<script>requirejs.config({paths: { 'plotly': ['https://cdn.plot.ly/plotly-latest.min']},});if(!window.Plotly) {{require(['plotly'],function(plotly) {window.Plotly=plotly;});}}</script>"
      ],
      "text/vnd.plotly.v1+html": [
       "<script>requirejs.config({paths: { 'plotly': ['https://cdn.plot.ly/plotly-latest.min']},});if(!window.Plotly) {{require(['plotly'],function(plotly) {window.Plotly=plotly;});}}</script>"
      ]
     },
     "metadata": {},
     "output_type": "display_data"
    }
   ],
   "source": [
    "# We need to initialise offline plotly for the notebook so our charts display in-line\n",
    "init_notebook_mode(connected=True)"
   ]
  },
  {
   "cell_type": "markdown",
   "metadata": {
    "slideshow": {
     "slide_type": "slide"
    }
   },
   "source": [
    "### A histogram of sequence lengths\n",
    "\n",
    "Plotly histograms: https://plot.ly/python/histograms/\n",
    "\n",
    "We'd like to be able to visualize the distribution of sequence lengths in our evasin sequence set."
   ]
  },
  {
   "cell_type": "markdown",
   "metadata": {
    "tags": [
     "challenge"
    ]
   },
   "source": [
    "## Challenge\n",
    "\n",
    "Write a **function** to return a list of lengths, given a list of sequences.\n",
    "\n",
    "eg, we want to be able to write:\n",
    "```\n",
    "lengths = get_lengths(sequences)\n",
    "```"
   ]
  },
  {
   "cell_type": "markdown",
   "metadata": {
    "slideshow": {
     "slide_type": "slide"
    },
    "tags": [
     "solution"
    ]
   },
   "source": [
    "## Solution"
   ]
  },
  {
   "cell_type": "code",
   "execution_count": 28,
   "metadata": {
    "tags": [
     "solution"
    ]
   },
   "outputs": [],
   "source": [
    "def get_lengths(sequences):\n",
    "    \"\"\"\n",
    "    Returns a list of sequence lengths, given a list of sequences.\n",
    "    \"\"\"\n",
    "    return [len(seq) for seq in sequences]\n",
    "\n",
    "\n",
    "# or without a list comprehension\n",
    "def get_lengths(sequences):\n",
    "    lengths = []\n",
    "    for seq in sequences:\n",
    "        lengths.append(len(seq))\n",
    "    return lengths"
   ]
  },
  {
   "cell_type": "code",
   "execution_count": 29,
   "metadata": {},
   "outputs": [
    {
     "data": {
      "text/plain": [
       "[]"
      ]
     },
     "execution_count": 29,
     "metadata": {},
     "output_type": "execute_result"
    }
   ],
   "source": [
    "lengths = get_lengths(seqs)\n",
    "lengths[0:5]"
   ]
  },
  {
   "cell_type": "code",
   "execution_count": 30,
   "metadata": {
    "slideshow": {
     "slide_type": "slide"
    }
   },
   "outputs": [
    {
     "data": {
      "application/vnd.plotly.v1+json": {
       "data": [
        {
         "type": "histogram",
         "x": [],
         "xbins": {
          "size": 1
         }
        }
       ],
       "layout": {}
      },
      "text/html": [
       "<div id=\"2f703545-5dac-42e6-a439-3dce496d3faa\" style=\"height: 525px; width: 100%;\" class=\"plotly-graph-div\"></div><script type=\"text/javascript\">require([\"plotly\"], function(Plotly) { window.PLOTLYENV=window.PLOTLYENV || {};window.PLOTLYENV.BASE_URL=\"https://plot.ly\";Plotly.newPlot(\"2f703545-5dac-42e6-a439-3dce496d3faa\", [{\"type\": \"histogram\", \"x\": [], \"xbins\": {\"size\": 1}}], {}, {\"showLink\": true, \"linkText\": \"Export to plot.ly\"})});</script>"
      ],
      "text/vnd.plotly.v1+html": [
       "<div id=\"2f703545-5dac-42e6-a439-3dce496d3faa\" style=\"height: 525px; width: 100%;\" class=\"plotly-graph-div\"></div><script type=\"text/javascript\">require([\"plotly\"], function(Plotly) { window.PLOTLYENV=window.PLOTLYENV || {};window.PLOTLYENV.BASE_URL=\"https://plot.ly\";Plotly.newPlot(\"2f703545-5dac-42e6-a439-3dce496d3faa\", [{\"type\": \"histogram\", \"x\": [], \"xbins\": {\"size\": 1}}], {}, {\"showLink\": true, \"linkText\": \"Export to plot.ly\"})});</script>"
      ]
     },
     "metadata": {},
     "output_type": "display_data"
    }
   ],
   "source": [
    "bins = dict(size=1)\n",
    "# bins = dict(start=0.5, end=300.5, size=1)\n",
    "data = [go.Histogram(x=lengths, xbins=bins)]\n",
    "\n",
    "iplot(data, filename='Evasin sequence length distribution')"
   ]
  },
  {
   "cell_type": "markdown",
   "metadata": {
    "slideshow": {
     "slide_type": "slide"
    }
   },
   "source": [
    "The canonical evasins are ~120 - 140 residues long. Our set contains some sequences past 200 residues in length. This might warrant further investigation (but not today !).\n",
    "\n",
    "Let's remove all the sequences longer than 300 residues."
   ]
  },
  {
   "cell_type": "code",
   "execution_count": null,
   "metadata": {},
   "outputs": [],
   "source": [
    "long_seqs = [seq.metadata['description'] for seq in seqs if len(seq) > 300]\n",
    "print(long_seqs)"
   ]
  },
  {
   "cell_type": "code",
   "execution_count": null,
   "metadata": {},
   "outputs": [],
   "source": [
    "sane_seqs = [seq for seq in seqs if len(seq) <= 300]\n",
    "len(sane_seqs)"
   ]
  },
  {
   "cell_type": "code",
   "execution_count": null,
   "metadata": {
    "slideshow": {
     "slide_type": "slide"
    }
   },
   "outputs": [],
   "source": [
    "bins = dict(size=1)\n",
    "data = [go.Histogram(x=get_lengths(sane_seqs), xbins=bins)]\n",
    "\n",
    "iplot(data, filename='Evasin sequence length distribution')"
   ]
  }
 ],
 "metadata": {
  "celltoolbar": "Tags",
  "kernelspec": {
   "display_name": "Python 3",
   "language": "python",
   "name": "python3"
  },
  "language_info": {
   "codemirror_mode": {
    "name": "ipython",
    "version": 3
   },
   "file_extension": ".py",
   "mimetype": "text/x-python",
   "name": "python",
   "nbconvert_exporter": "python",
   "pygments_lexer": "ipython3",
   "version": "3.6.3"
  }
 },
 "nbformat": 4,
 "nbformat_minor": 2
}
